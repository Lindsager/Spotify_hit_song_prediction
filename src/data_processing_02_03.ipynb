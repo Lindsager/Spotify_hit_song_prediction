{
 "cells": [
  {
   "cell_type": "code",
   "execution_count": 8,
   "id": "b2d07c79",
   "metadata": {},
   "outputs": [],
   "source": [
    "import pandas as pd\n",
    "import numpy as np\n",
    "\n",
    "# read-in merged hit songs dataset, filter out songs released prior to 1985\n",
    "def process_billboard_hits_dataset(filepath):\n",
    "    data = pd.read_csv(filepath)\n",
    "    df_hits_cleaned = data[data['year'] >= 1985]\n",
    "    \n",
    "    return df_hits_cleaned\n",
    "\n",
    "# read-in merged non-hit songs dataset, filter out songs before 1985, filter duration to match hit songs\n",
    "def clean_non_hits_dataset(filepath, df_hits_cleaned):\n",
    "    data = pd.read_csv(filepath)\n",
    "    non_hit_filtered = data[data['year'] >= 1985]\n",
    "    lower_bound = df_hits_cleaned['duration_ms'].describe()['min']\n",
    "    upper_bound = df_hits_cleaned['duration_ms'].describe()['max']\n",
    "    non_hit_cleaned = non_hit_filtered[(non_hit_filtered['duration_ms'] >= lower_bound) & \n",
    "                                       (non_hit_filtered['duration_ms'] <= upper_bound)]\n",
    "    return non_hit_cleaned\n",
    "    \n",
    "# random stratified sampling of large dataset to ensure yearly distribution of sampled data reflects billboard distribuion\n",
    "def sample_non_hits_clean_data(non_hit_cleaned, df_hits_cleaned):\n",
    "    year_bins = [1984, 1994, 2004, 2014, 2023]\n",
    "    labels = ['1985-1994', '1995-2004', '2005-2014', '2015-2023']\n",
    "    \n",
    "    df_hits_cleaned['year_bin'] = pd.cut(df_hits_cleaned['year'], bins=year_bins, labels=labels, right=True)\n",
    "    hits_distribution = df_hits_cleaned['year_bin'].value_counts(normalize=True)\n",
    "    non_hit_cleaned['year_bin'] = pd.cut(non_hit_cleaned['year'], bins=year_bins, labels=labels, right=True)\n",
    "    \n",
    "    non_hits_sampled = pd.DataFrame()\n",
    "    \n",
    "    total_non_hits_to_sample = len(df_hits_cleaned)\n",
    "    \n",
    "    for label in labels:\n",
    "        num_to_sample = int(hits_distribution[label] * total_non_hits_to_sample)\n",
    "        sampled = non_hit_cleaned[non_hit_cleaned['year_bin'] == label].sample(n=num_to_sample, random_state=42)\n",
    "        non_hits_sampled = pd.concat([non_hits_sampled, sampled])\n",
    "    \n",
    "    non_hits_sampled.drop('year_bin', axis=1, inplace=True)\n",
    "    df_hits_cleaned.drop('year_bin', axis=1, inplace=True)\n",
    "    \n",
    "    return non_hits_sampled\n",
    "\n",
    "# Creation of combined dataset (16k hits + 16k non-hits) for modeling and exploratory data analysis\n",
    "def create_modeling_dataset_32k(non_hits_sampled, df_hits_cleaned):\n",
    "    modeling_dataset = pd.concat([df_hits_cleaned, non_hits_sampled], ignore_index=True)\n",
    "    return modeling_dataset\n",
    "\n",
    "#save the processed and final datasets for downstream model training and analysis\n",
    "def save_processed_data(df, filepath):\n",
    "    df.to_csv(filepath, index=False)"
   ]
  },
  {
   "cell_type": "code",
   "execution_count": 9,
   "id": "2b693000",
   "metadata": {},
   "outputs": [],
   "source": [
    "def main():\n",
    "    df_hits_cleaned = process_billboard_hits_dataset('../data/processed/top_hits_features.csv')\n",
    "    non_hit_cleaned = clean_non_hits_dataset('../data/processed/non_hit_tracks.csv', df_hits_cleaned)\n",
    "    non_hits_sampled = sample_non_hits_clean_data(non_hit_cleaned, df_hits_cleaned)\n",
    "    modeling_dataset = create_modeling_dataset_32k(non_hits_sampled, df_hits_cleaned)\n",
    "    \n",
    "    save_processed_data(df_hits_cleaned, '../data/processed/df_hits_cleaned.csv')\n",
    "    save_processed_data(non_hits_sampled, '../data/processed/non_hits_sampled.csv')\n",
    "    save_processed_data(modeling_dataset, '../data/final/modeling_dataset_32k.csv')\n",
    "\n",
    "if __name__ == '__main__':\n",
    "    main()"
   ]
  }
 ],
 "metadata": {
  "kernelspec": {
   "display_name": "Python 3 (ipykernel)",
   "language": "python",
   "name": "python3"
  },
  "language_info": {
   "codemirror_mode": {
    "name": "ipython",
    "version": 3
   },
   "file_extension": ".py",
   "mimetype": "text/x-python",
   "name": "python",
   "nbconvert_exporter": "python",
   "pygments_lexer": "ipython3",
   "version": "3.9.18"
  }
 },
 "nbformat": 4,
 "nbformat_minor": 5
}
